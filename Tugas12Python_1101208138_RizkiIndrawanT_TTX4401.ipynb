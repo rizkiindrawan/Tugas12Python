{
  "nbformat": 4,
  "nbformat_minor": 0,
  "metadata": {
    "colab": {
      "name": "Untitled8.ipynb",
      "provenance": [],
      "authorship_tag": "ABX9TyM3Jxz5VUCJbk0hCUNkvn1N",
      "include_colab_link": true
    },
    "kernelspec": {
      "name": "python3",
      "display_name": "Python 3"
    }
  },
  "cells": [
    {
      "cell_type": "markdown",
      "metadata": {
        "id": "view-in-github",
        "colab_type": "text"
      },
      "source": [
        "<a href=\"https://colab.research.google.com/github/rizkiindrawan/Tugas12Python/blob/main/Tugas12Python_1101208138_RizkiIndrawanT_TTX4401.ipynb\" target=\"_parent\"><img src=\"https://colab.research.google.com/assets/colab-badge.svg\" alt=\"Open In Colab\"/></a>"
      ]
    },
    {
      "cell_type": "code",
      "metadata": {
        "id": "XqNPejnDaZK_"
      },
      "source": [
        "# Name : Rizki Indrawan Tarigan\r\n",
        "# NIM : 1101208138\r\n",
        "# Class : TTX 44-01"
      ],
      "execution_count": null,
      "outputs": []
    },
    {
      "cell_type": "code",
      "metadata": {
        "id": "-Fv075-Tcx4F"
      },
      "source": [
        "import numpy as np"
      ],
      "execution_count": 1,
      "outputs": []
    },
    {
      "cell_type": "code",
      "metadata": {
        "id": "6PoQO1zndOQw"
      },
      "source": [
        "NtL = lambda x: 10*np.log10(x)"
      ],
      "execution_count": 3,
      "outputs": []
    },
    {
      "cell_type": "code",
      "metadata": {
        "colab": {
          "base_uri": "https://localhost:8080/"
        },
        "id": "FzMzGJQUdRUG",
        "outputId": "b4f017e0-086c-4d12-ee1a-88e1518288db"
      },
      "source": [
        "z=NtL(100)\r\n",
        "print(z)"
      ],
      "execution_count": 4,
      "outputs": [
        {
          "output_type": "stream",
          "text": [
            "20.0\n"
          ],
          "name": "stdout"
        }
      ]
    },
    {
      "cell_type": "code",
      "metadata": {
        "id": "GyMYyz4rdoXV"
      },
      "source": [
        "LtN = lambda x: 10**(x/10)"
      ],
      "execution_count": 5,
      "outputs": []
    },
    {
      "cell_type": "code",
      "metadata": {
        "colab": {
          "base_uri": "https://localhost:8080/"
        },
        "id": "zU1xI0fCdt5B",
        "outputId": "d4730ce5-b919-45eb-f243-b860c2a3f43b"
      },
      "source": [
        "y=LtN(100)\r\n",
        "print(y)"
      ],
      "execution_count": 6,
      "outputs": [
        {
          "output_type": "stream",
          "text": [
            "10000000000.0\n"
          ],
          "name": "stdout"
        }
      ]
    },
    {
      "cell_type": "code",
      "metadata": {
        "colab": {
          "base_uri": "https://localhost:8080/"
        },
        "id": "r8NfNA7IdyeJ",
        "outputId": "6c9347f2-61a5-44f4-fdf3-c09c0a543276"
      },
      "source": [
        "# Daerah Suburban\r\n",
        "Lp = 46.3  + (33.9*np.log10(1750)) - (13.83*np.log10(40)) - ((((1.1*np.log10(1750))-0.7)*10) - ((1.56*np.log10(1750))-0.8)) + ((44.9-(6.55*np.log10(40)))*np.log10(5)) + (-11.8082)\r\n",
        "print(Lp)"
      ],
      "execution_count": 12,
      "outputs": [
        {
          "output_type": "stream",
          "text": [
            "121.90913737748107\n"
          ],
          "name": "stdout"
        }
      ]
    },
    {
      "cell_type": "code",
      "metadata": {
        "colab": {
          "base_uri": "https://localhost:8080/"
        },
        "id": "7q_gC_MfxrCZ",
        "outputId": "6030290e-f83f-4d6c-81ba-e7e840a8fb26"
      },
      "source": [
        "# Daerah Urban\r\n",
        "Lp = 46.3  + (33.9*np.log10(1750)) - (13.83*np.log10(40)) - ((((1.1*np.log10(1750))-0.7)*10) - ((1.56*np.log10(1750))-0.8)) + ((44.9-(6.55*np.log10(40)))*np.log10(5)) + (0)\r\n",
        "print(Lp)"
      ],
      "execution_count": 17,
      "outputs": [
        {
          "output_type": "stream",
          "text": [
            "133.71733737748107\n"
          ],
          "name": "stdout"
        }
      ]
    },
    {
      "cell_type": "code",
      "metadata": {
        "colab": {
          "base_uri": "https://localhost:8080/"
        },
        "id": "V691fcGiyug3",
        "outputId": "1c35e312-fbfe-494e-f058-d2cf7177d993"
      },
      "source": [
        "# Daerah Open\r\n",
        "Lp = 46.3  + (33.9*np.log10(1750)) - (13.83*np.log10(40)) - ((((1.1*np.log10(1750))-0.7)*10) - ((1.56*np.log10(1750))-0.8)) + ((44.9-(6.55*np.log10(40)))*np.log10(5)) + (-31.7677)\r\n",
        "print(Lp)"
      ],
      "execution_count": 18,
      "outputs": [
        {
          "output_type": "stream",
          "text": [
            "101.94963737748107\n"
          ],
          "name": "stdout"
        }
      ]
    },
    {
      "cell_type": "code",
      "metadata": {
        "id": "Cc9AhJynjURt"
      },
      "source": [
        "def ploss (d, f, cm, ht, hr):\r\n",
        "  pldb= 46.3 + (33.9*np.log10(f)) - (13.83*np.log10(ht)) - ((((1.1*np.log10(f)) - 0.7) * hr) - ((1.56*np.log10(f)) - 0.8)) + ((44.9 - (6.55*np.log10(ht)))*np.log10(d)) + cm\r\n",
        "  plnum=LtN(-pldb)\r\n",
        "  return pldb,plnum"
      ],
      "execution_count": 13,
      "outputs": []
    },
    {
      "cell_type": "code",
      "metadata": {
        "colab": {
          "base_uri": "https://localhost:8080/"
        },
        "id": "4wpd2q4mwEDm",
        "outputId": "42e4aacb-c362-4ce0-db62-8590ddb17e95"
      },
      "source": [
        "# Daerah Suburban\r\n",
        "pathlossdb, pathlossnum = ploss(5, 1750, -11.8082, 40, 10)\r\n",
        "print(\"pathloss dalam db =\",pathlossdb,\"dB\")\r\n",
        "print(\"pathloss dalam numerik =\",pathlossnum,\"kali\")"
      ],
      "execution_count": 15,
      "outputs": [
        {
          "output_type": "stream",
          "text": [
            "pathloss dalam db = 121.90913737748107 dB\n",
            "pathloss dalam numerik = 6.442972271004683e-13 kali\n"
          ],
          "name": "stdout"
        }
      ]
    },
    {
      "cell_type": "code",
      "metadata": {
        "colab": {
          "base_uri": "https://localhost:8080/"
        },
        "id": "m97z9eQ0xR0j",
        "outputId": "0284a159-c5be-4977-a75a-063d7627f3bf"
      },
      "source": [
        "# Daerah Urban\r\n",
        "pathlossdb, pathlossnum = ploss(5, 1750, 0, 40, 10)\r\n",
        "print(\"pathloss dalam db =\",pathlossdb,\"dB\")\r\n",
        "print(\"pathloss dalam numerik =\",pathlossnum,\"kali\")"
      ],
      "execution_count": 16,
      "outputs": [
        {
          "output_type": "stream",
          "text": [
            "pathloss dalam db = 133.71733737748107 dB\n",
            "pathloss dalam numerik = 4.2487997440788266e-14 kali\n"
          ],
          "name": "stdout"
        }
      ]
    },
    {
      "cell_type": "code",
      "metadata": {
        "colab": {
          "base_uri": "https://localhost:8080/"
        },
        "id": "EnH8ulFyxhIW",
        "outputId": "a61a15e4-d1f8-4fbd-a558-5c57f15a9952"
      },
      "source": [
        "# Daerah Open\r\n",
        "pathlossdb, pathlossnum = ploss(5, 1750, -31.7677, 40, 10)\r\n",
        "print(\"pathloss dalam db =\",pathlossdb,\"dB\")\r\n",
        "print(\"pathloss dalam numerik =\",pathlossnum,\"kali\")"
      ],
      "execution_count": 19,
      "outputs": [
        {
          "output_type": "stream",
          "text": [
            "pathloss dalam db = 101.94963737748107 dB\n",
            "pathloss dalam numerik = 6.383167814511705e-11 kali\n"
          ],
          "name": "stdout"
        }
      ]
    }
  ]
}